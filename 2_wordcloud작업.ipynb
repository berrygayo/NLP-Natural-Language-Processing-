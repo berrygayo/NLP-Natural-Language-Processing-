{
  "nbformat": 4,
  "nbformat_minor": 0,
  "metadata": {
    "colab": {
      "name": "2. wordcloud작업.ipynb",
      "private_outputs": true,
      "provenance": [],
      "collapsed_sections": [],
      "mount_file_id": "1k8qBAWMONbsd4xoIfhKK1_Y2aRyo48Xg",
      "authorship_tag": "ABX9TyP4up9KKw5zEqSodyziq7Gg",
      "include_colab_link": true
    },
    "kernelspec": {
      "name": "python3",
      "display_name": "Python 3"
    },
    "language_info": {
      "name": "python"
    }
  },
  "cells": [
    {
      "cell_type": "markdown",
      "metadata": {
        "id": "view-in-github",
        "colab_type": "text"
      },
      "source": [
        "<a href=\"https://colab.research.google.com/github/berrygayo/NLP-Natural-Language-Processing-/blob/master/2_wordcloud%EC%9E%91%EC%97%85.ipynb\" target=\"_parent\"><img src=\"https://colab.research.google.com/assets/colab-badge.svg\" alt=\"Open In Colab\"/></a>"
      ]
    },
    {
      "cell_type": "markdown",
      "metadata": {
        "id": "RaxZgp_8PX_6"
      },
      "source": [
        "#  wordcloud\n",
        "1. 토큰화 작업 후 빈도수 추출 \n",
        "2. 빈도수 기반으로 wordcloud 그리기 (generate frequency) "
      ]
    },
    {
      "cell_type": "code",
      "metadata": {
        "id": "_srJJIIK6tBk"
      },
      "source": [
        "from wordcloud import WordCloud, STOPWORDS\n",
        "from konlpy.tag import Kkma\n",
        "kkma = Kkma()\n",
        "\n",
        "import numpy as np \n",
        "import pandas as pd \n",
        "import seaborn as sns \n",
        "\n",
        "import re"
      ],
      "execution_count": null,
      "outputs": []
    },
    {
      "cell_type": "code",
      "metadata": {
        "id": "IkYFKu0MPijc"
      },
      "source": [
        "#!pip install tweepy==3.7.0 \n",
        "#!pip install konlpy==0.5.1"
      ],
      "execution_count": null,
      "outputs": []
    },
    {
      "cell_type": "code",
      "metadata": {
        "id": "9_RQibqU984b"
      },
      "source": [
        "# 토큰화 마친 파일 불러오기\n",
        "merge_left = pd.read_csv('/content/drive/MyDrive/프로젝트/네트워크분석/merge_left.csv')"
      ],
      "execution_count": null,
      "outputs": []
    },
    {
      "cell_type": "code",
      "metadata": {
        "id": "W_XZz5Z4lk76"
      },
      "source": [
        "# 특수문자 [ ] , 제거 작업 \n",
        "merge_left['token']=merge_left['token'].apply(lambda x: x.replace('[','').replace(']','').replace(\"'\",''))\n",
        "merge_left.head()"
      ],
      "execution_count": null,
      "outputs": []
    },
    {
      "cell_type": "code",
      "metadata": {
        "id": "4LXkoQ1HglCs"
      },
      "source": [
        "# 시리즈 리스트로 변환 \n",
        "lst = merge_left['token'].tolist()\n",
        "lst"
      ],
      "execution_count": null,
      "outputs": []
    },
    {
      "cell_type": "code",
      "metadata": {
        "id": "ufZYHL8UglJx"
      },
      "source": [
        "# 컴마 단위로 분리\n",
        "result=[]\n",
        "for i in range(len(lst)):\n",
        "    tmp_list = lst[i].split(',')\n",
        "    for j in range(len(tmp_list)):\n",
        "        result.append(tmp_list[j])\n",
        "result"
      ],
      "execution_count": null,
      "outputs": []
    },
    {
      "cell_type": "code",
      "metadata": {
        "id": "w1uF1iEnglMi"
      },
      "source": [
        "print('topic의 총 갯수는 : {}'.format(len(result)))"
      ],
      "execution_count": null,
      "outputs": []
    },
    {
      "cell_type": "code",
      "metadata": {
        "id": "0mxtfnqlM3D0"
      },
      "source": [
        "def del_words(test):\n",
        "    # 불용어 사전 정의 \n",
        "    stop_words = ['','무','월','일','집','창','의','전','한','년','새','공','콩','홍','과','눈','관','김','춤','신','대','호','학','시']\n",
        "    test2=[]\n",
        "    result=[]\n",
        "\n",
        "    # strip 띄어쓰기 제거 \n",
        "    for item in test:\n",
        "        item = item.strip()\n",
        "        # 한글자 단어 제거\n",
        "        if len(item) != 1 :\n",
        "            test2.append(item)\n",
        "\n",
        "    # 불용어 제거 \n",
        "    for item2 in test2:\n",
        "        if item2 not in stop_words:\n",
        "            result.append(item2)\n",
        "\n",
        "    return result\n",
        "\n",
        "\n",
        "topic_list_del = del_words(result)"
      ],
      "execution_count": null,
      "outputs": []
    },
    {
      "cell_type": "code",
      "metadata": {
        "id": "KK_bgsSbglPg"
      },
      "source": [
        "print('stopwords 제거된 topic의 총 갯수는 : {}'.format(len(topic_list_del )))"
      ],
      "execution_count": null,
      "outputs": []
    },
    {
      "cell_type": "code",
      "metadata": {
        "id": "yiV_2bvrglTq"
      },
      "source": [
        "# 빈도수 계산 \n",
        "from collections import Counter \n",
        "count = Counter(topic_list_del )\n",
        "tags = count.most_common(150) # 상위 150개 \n",
        "tags"
      ],
      "execution_count": null,
      "outputs": []
    },
    {
      "cell_type": "markdown",
      "metadata": {
        "id": "Uq9TVKY2a7mD"
      },
      "source": [
        "# word cloud 시각화 "
      ]
    },
    {
      "cell_type": "code",
      "metadata": {
        "id": "YB4wqdKDmF4H"
      },
      "source": [
        "from PIL import Image\n",
        "import matplotlib.pyplot as plt \n",
        "\n",
        "movie_mask = np.array(Image.open(\"/content/drive/MyDrive/프로젝트/네트워크분석/video-300x300.jpg\"))\n",
        "\n",
        "wc = WordCloud(font_path='/content/drive/MyDrive/fonts/NanumGothicLight.ttf',\n",
        "               background_color='White',\n",
        "               width=1000, height=1000,\n",
        "               mask=movie_mask\n",
        "               )\n",
        "\n",
        "cloud = wc.generate_from_frequencies(dict(tags))\n",
        "\n",
        "\n",
        "plt.figure(figsize=(10,10))\n",
        "plt.axis('off')\n",
        "plt.imshow(cloud,interpolation=\"bilinear\")"
      ],
      "execution_count": null,
      "outputs": []
    },
    {
      "cell_type": "code",
      "metadata": {
        "id": "VFFsvan2gIrs"
      },
      "source": [
        ""
      ],
      "execution_count": null,
      "outputs": []
    }
  ]
}