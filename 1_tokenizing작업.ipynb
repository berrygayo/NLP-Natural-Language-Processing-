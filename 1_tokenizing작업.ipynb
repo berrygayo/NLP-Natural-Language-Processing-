{
  "nbformat": 4,
  "nbformat_minor": 0,
  "metadata": {
    "colab": {
      "name": "1.tokenizing작업.ipynb",
      "private_outputs": true,
      "provenance": [],
      "collapsed_sections": [],
      "mount_file_id": "1qtjeTwQk_lPkRr9bAGORezPXA_1871K0",
      "authorship_tag": "ABX9TyO44tHSueWkVzvcaABKx5wf",
      "include_colab_link": true
    },
    "kernelspec": {
      "name": "python3",
      "display_name": "Python 3"
    },
    "language_info": {
      "name": "python"
    }
  },
  "cells": [
    {
      "cell_type": "markdown",
      "metadata": {
        "id": "view-in-github",
        "colab_type": "text"
      },
      "source": [
        "<a href=\"https://colab.research.google.com/github/berrygayo/NLP-Natural-Language-Processing-/blob/master/1_tokenizing%EC%9E%91%EC%97%85.ipynb\" target=\"_parent\"><img src=\"https://colab.research.google.com/assets/colab-badge.svg\" alt=\"Open In Colab\"/></a>"
      ]
    },
    {
      "cell_type": "markdown",
      "metadata": {
        "id": "RaxZgp_8PX_6"
      },
      "source": [
        "# 토큰화 kkma 사용 "
      ]
    },
    {
      "cell_type": "code",
      "metadata": {
        "id": "_srJJIIK6tBk"
      },
      "source": [
        "from wordcloud import WordCloud, STOPWORDS\n",
        "from konlpy.tag import Kkma\n",
        "kkma = Kkma()\n",
        "\n",
        "import numpy as np \n",
        "import pandas as pd \n",
        "import seaborn as sns \n",
        "\n",
        "import re"
      ],
      "execution_count": null,
      "outputs": []
    },
    {
      "cell_type": "code",
      "metadata": {
        "id": "IkYFKu0MPijc"
      },
      "source": [
        "#!pip install tweepy==3.7.0 \n",
        "#!pip install konlpy==0.5.1"
      ],
      "execution_count": null,
      "outputs": []
    },
    {
      "cell_type": "code",
      "metadata": {
        "id": "kwUlMng0Pipe"
      },
      "source": [
        "data=pd.read_csv('/content/drive/MyDrive/프로젝트/네트워크분석/tbl_keyword_202110121046.csv', encoding='cp949')\n",
        "data"
      ],
      "execution_count": null,
      "outputs": []
    },
    {
      "cell_type": "markdown",
      "metadata": {
        "id": "sf_SnnzNejuw"
      },
      "source": [
        "# 전처리\n",
        "- 한글 데이터만 \n",
        "- 전체 키워드로 형태소분석기 돌릴 시 시간이 많이 걸림 > duplicate로 중복 제거 후 \n",
        "- merge 를 사용하여 토픽들 옆에 붙임"
      ]
    },
    {
      "cell_type": "code",
      "metadata": {
        "id": "q0gWnX2eeifN"
      },
      "source": [
        "# 한글과 숫자만 남김\n",
        "data['keyword'] = [re.sub('[^ ㄱ-ㅣ가-힣]', '', s) for s in data['keyword']]\n",
        "data"
      ],
      "execution_count": null,
      "outputs": []
    },
    {
      "cell_type": "code",
      "metadata": {
        "id": "a1__4rCUhaYm"
      },
      "source": [
        "# 시간단축을 위해 중복된 값들 날림\n",
        "data_unique = data.drop_duplicates(['keyword'],keep='first')\n",
        "data_unique.shape"
      ],
      "execution_count": null,
      "outputs": []
    },
    {
      "cell_type": "code",
      "metadata": {
        "id": "QaI8rI9QivyJ"
      },
      "source": [
        "data_unique=data_unique.drop(data_unique.index[2])\n",
        "data_unique=data_unique.reset_index()\n",
        "data_unique"
      ],
      "execution_count": null,
      "outputs": []
    },
    {
      "cell_type": "code",
      "metadata": {
        "id": "e3LKa5Tunqgu"
      },
      "source": [
        "data_unique"
      ],
      "execution_count": null,
      "outputs": []
    },
    {
      "cell_type": "markdown",
      "metadata": {
        "id": "0PZDqzA9WSii"
      },
      "source": [
        "## 단어추출 "
      ]
    },
    {
      "cell_type": "code",
      "metadata": {
        "id": "HDQpeeZTPisi"
      },
      "source": [
        "# 하나의 리스트로 \n",
        "#def create_n(table):\n",
        "#    final=[]\n",
        "#    for i in range(table.shape[0]):\n",
        "#        list_n=kkma.nouns(table['keyword'][i])\n",
        "#        final = final+list_n \n",
        "#    return final"
      ],
      "execution_count": null,
      "outputs": []
    },
    {
      "cell_type": "code",
      "metadata": {
        "id": "S5ZiyJi0i-So"
      },
      "source": [
        "# 리스트 안에 리스트로\n",
        "def create_n(table):\n",
        "    final=[]\n",
        "    for i in range(table.shape[0]):\n",
        "        list_n=kkma.nouns(table['keyword'][i])\n",
        "        final.append(list_n)\n",
        "    return final"
      ],
      "execution_count": null,
      "outputs": []
    },
    {
      "cell_type": "code",
      "metadata": {
        "id": "vU0f8YjhV32s"
      },
      "source": [
        "keyword_list = create_n(data_unique)"
      ],
      "execution_count": null,
      "outputs": []
    },
    {
      "cell_type": "code",
      "metadata": {
        "id": "UkpVvt2wkd6h"
      },
      "source": [
        "len(keyword_list)"
      ],
      "execution_count": null,
      "outputs": []
    },
    {
      "cell_type": "code",
      "metadata": {
        "id": "SHBhpuE9WDRS"
      },
      "source": [
        "# str 구조로 변경 필요 \n",
        "type(keyword_list[0][0])"
      ],
      "execution_count": null,
      "outputs": []
    },
    {
      "cell_type": "code",
      "metadata": {
        "id": "SpKbtMrmrSOK"
      },
      "source": [
        "keyword_list"
      ],
      "execution_count": null,
      "outputs": []
    },
    {
      "cell_type": "code",
      "metadata": {
        "id": "xy5pLhWMxT5L"
      },
      "source": [
        "keyword_list[3]"
      ],
      "execution_count": null,
      "outputs": []
    },
    {
      "cell_type": "code",
      "metadata": {
        "id": "s6W7aXpyrC0G"
      },
      "source": [
        "data_unique.head()"
      ],
      "execution_count": null,
      "outputs": []
    },
    {
      "cell_type": "code",
      "metadata": {
        "id": "1RK6X0CQxlju"
      },
      "source": [
        "test = data_unique.copy()\n",
        "test[\"token\"] = keyword_list\n",
        "test"
      ],
      "execution_count": null,
      "outputs": []
    },
    {
      "cell_type": "code",
      "metadata": {
        "id": "EgmMIR_4MgBs"
      },
      "source": [
        "merge_left = pd.merge(data,test, how='left', left_on='keyword', right_on='keyword')\n",
        "merge_left"
      ],
      "execution_count": null,
      "outputs": []
    },
    {
      "cell_type": "code",
      "metadata": {
        "id": "2LJWLmuepHVl"
      },
      "source": [
        "merge_left.to_csv('/content/drive/MyDrive/프로젝트/네트워크분석/merge_left.csv')"
      ],
      "execution_count": null,
      "outputs": []
    }
  ]
}