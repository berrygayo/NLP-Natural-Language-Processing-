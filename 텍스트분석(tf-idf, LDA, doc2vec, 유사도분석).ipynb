{
 "cells": [
  {
   "cell_type": "markdown",
   "metadata": {},
   "source": [
    "# TF-IDF(Term Frequency -Inverse Document Frequency)\n",
    "## 단어 빈도 -역 문서 빈도 \n",
    "\n",
    "TF-IDF는 단어의 빈도와 역 문서 빈도를 사용하여 DTM 내의 각 단어들마다 중요한 정도를 가중치로 주는 방법입니다 \n",
    "사용 방법은 우성 DTM을 만든 후, TF-IDF 가중치를 부여합니다. \n",
    "TF-IDF는 주로 문서의 유사도를 구하는 작업, 검색 시슽ㅁ에서 검색 결과의 중요도를 정하는 작업, 문서 내에서 특정 단어의 중요도를 구하는 작업 등에 쓰일 수 있습니다.\n",
    "\n",
    "1. tf(d,t) : 특정 문서 d에서의 특정 단어 t의 등장 횟수 \n",
    "2. df(t) : 특정 단어 t가 등장한 문서의 수  \n",
    "3. idf(d,t) : df(t)에 반비례하는 수 \n",
    "\n",
    "+ TF-IDF = tf * idf "
   ]
  },
  {
   "cell_type": "markdown",
   "metadata": {},
   "source": [
    "## 사이킷런을 이용하여 tf-idf 구하기 "
   ]
  },
  {
   "cell_type": "code",
   "execution_count": 1,
   "metadata": {},
   "outputs": [],
   "source": [
    "from sklearn.feature_extraction.text import CountVectorizer \n",
    "corpus=[\n",
    "    '먹고 싶은 사과',\n",
    "    '먹고 싶은 토마토',\n",
    "    '빨갛고 큼지막한 토마토 토마토',\n",
    "    '저는 과일이 좋아요'\n",
    "]"
   ]
  },
  {
   "cell_type": "code",
   "execution_count": 2,
   "metadata": {},
   "outputs": [
    {
     "name": "stdout",
     "output_type": "stream",
     "text": [
      "[[0 1 0 1 1 0 0 0 0]\n",
      " [0 1 0 0 1 0 0 0 1]\n",
      " [0 0 1 0 0 0 0 1 2]\n",
      " [1 0 0 0 0 1 1 0 0]]\n",
      "{'먹고': 1, '싶은': 4, '사과': 3, '토마토': 8, '빨갛고': 2, '큼지막한': 7, '저는': 5, '과일이': 0, '좋아요': 6}\n"
     ]
    }
   ],
   "source": [
    "#DTM 만들기 \n",
    "vector=CountVectorizer()\n",
    "print(vector.fit_transform(corpus).toarray()) # 코버스로부터 각 단어의 빈도 수를 기록 \n",
    "print(vector.vocabulary_) #ㅏㄱ 단어의 인덱스가 어떻게 부여되었는지를 보여준다. "
   ]
  },
  {
   "cell_type": "code",
   "execution_count": 3,
   "metadata": {},
   "outputs": [
    {
     "name": "stdout",
     "output_type": "stream",
     "text": [
      "[[0.         0.52640543 0.         0.66767854 0.52640543 0.\n",
      "  0.         0.         0.        ]\n",
      " [0.         0.57735027 0.         0.         0.57735027 0.\n",
      "  0.         0.         0.57735027]\n",
      " [0.         0.         0.47212003 0.         0.         0.\n",
      "  0.         0.47212003 0.7444497 ]\n",
      " [0.57735027 0.         0.         0.         0.         0.57735027\n",
      "  0.57735027 0.         0.        ]]\n",
      "{'먹고': 1, '싶은': 4, '사과': 3, '토마토': 8, '빨갛고': 2, '큼지막한': 7, '저는': 5, '과일이': 0, '좋아요': 6}\n"
     ]
    }
   ],
   "source": [
    "from sklearn.feature_extraction.text import TfidfVectorizer\n",
    "tfidfv=TfidfVectorizer().fit(corpus)\n",
    "print(tfidfv.transform(corpus).toarray())\n",
    "print(tfidfv.vocabulary_)"
   ]
  },
  {
   "cell_type": "markdown",
   "metadata": {},
   "source": [
    "## 코드 직접 구현하기"
   ]
  },
  {
   "cell_type": "code",
   "execution_count": 4,
   "metadata": {},
   "outputs": [],
   "source": [
    "docs = [\n",
    "    '먹고 싶은 사과',\n",
    "    '먹고 싶은 토마토',\n",
    "    '빨갛고 큼지막한 토마토 토마토',\n",
    "    '저는 과일이 좋아요'\n",
    "]\n",
    "vocab = list(set(w for doc in docs for w in doc.split()))\n",
    "vocab.sort()"
   ]
  },
  {
   "cell_type": "code",
   "execution_count": 5,
   "metadata": {},
   "outputs": [],
   "source": [
    "# tf - idf 구하는 함수 \n",
    "import math \n",
    "\n",
    "N = len(docs) # 총 문서의 수\n",
    "\n",
    "def tf(t, d):\n",
    "    return d.count(t)\n",
    "\n",
    "def idf(t):\n",
    "    df = 0\n",
    "    for doc in docs:\n",
    "        df += t in doc\n",
    "    return math.log(N/(df + 1))\n",
    "\n",
    "def tfidf(t, d):\n",
    "    return tf(t,d)* idf(t)"
   ]
  },
  {
   "cell_type": "code",
   "execution_count": 6,
   "metadata": {},
   "outputs": [
    {
     "data": {
      "text/html": [
       "<div>\n",
       "<style scoped>\n",
       "    .dataframe tbody tr th:only-of-type {\n",
       "        vertical-align: middle;\n",
       "    }\n",
       "\n",
       "    .dataframe tbody tr th {\n",
       "        vertical-align: top;\n",
       "    }\n",
       "\n",
       "    .dataframe thead th {\n",
       "        text-align: right;\n",
       "    }\n",
       "</style>\n",
       "<table border=\"1\" class=\"dataframe\">\n",
       "  <thead>\n",
       "    <tr style=\"text-align: right;\">\n",
       "      <th></th>\n",
       "      <th>과일이</th>\n",
       "      <th>먹고</th>\n",
       "      <th>빨갛고</th>\n",
       "      <th>사과</th>\n",
       "      <th>싶은</th>\n",
       "      <th>저는</th>\n",
       "      <th>좋아요</th>\n",
       "      <th>큼지막한</th>\n",
       "      <th>토마토</th>\n",
       "    </tr>\n",
       "  </thead>\n",
       "  <tbody>\n",
       "    <tr>\n",
       "      <th>0</th>\n",
       "      <td>0</td>\n",
       "      <td>1</td>\n",
       "      <td>0</td>\n",
       "      <td>1</td>\n",
       "      <td>1</td>\n",
       "      <td>0</td>\n",
       "      <td>0</td>\n",
       "      <td>0</td>\n",
       "      <td>0</td>\n",
       "    </tr>\n",
       "    <tr>\n",
       "      <th>1</th>\n",
       "      <td>0</td>\n",
       "      <td>1</td>\n",
       "      <td>0</td>\n",
       "      <td>0</td>\n",
       "      <td>1</td>\n",
       "      <td>0</td>\n",
       "      <td>0</td>\n",
       "      <td>0</td>\n",
       "      <td>1</td>\n",
       "    </tr>\n",
       "    <tr>\n",
       "      <th>2</th>\n",
       "      <td>0</td>\n",
       "      <td>0</td>\n",
       "      <td>1</td>\n",
       "      <td>0</td>\n",
       "      <td>0</td>\n",
       "      <td>0</td>\n",
       "      <td>0</td>\n",
       "      <td>1</td>\n",
       "      <td>2</td>\n",
       "    </tr>\n",
       "    <tr>\n",
       "      <th>3</th>\n",
       "      <td>1</td>\n",
       "      <td>0</td>\n",
       "      <td>0</td>\n",
       "      <td>0</td>\n",
       "      <td>0</td>\n",
       "      <td>1</td>\n",
       "      <td>1</td>\n",
       "      <td>0</td>\n",
       "      <td>0</td>\n",
       "    </tr>\n",
       "  </tbody>\n",
       "</table>\n",
       "</div>"
      ],
      "text/plain": [
       "   과일이  먹고  빨갛고  사과  싶은  저는  좋아요  큼지막한  토마토\n",
       "0    0   1    0   1   1   0    0     0    0\n",
       "1    0   1    0   0   1   0    0     0    1\n",
       "2    0   0    1   0   0   0    0     1    2\n",
       "3    1   0    0   0   0   1    1     0    0"
      ]
     },
     "execution_count": 6,
     "metadata": {},
     "output_type": "execute_result"
    }
   ],
   "source": [
    "#tf 구하기 \n",
    "import pandas as pd \n",
    "\n",
    "result = []\n",
    "for i in range(N): # 각 문서에 대해서 아래 명령을 수행\n",
    "    result.append([])\n",
    "    d = docs[i]\n",
    "    for j in range(len(vocab)):\n",
    "        t = vocab[j]        \n",
    "        result[-1].append(tf(t, d))\n",
    "\n",
    "tf_ = pd.DataFrame(result, columns = vocab)\n",
    "tf_"
   ]
  },
  {
   "cell_type": "code",
   "execution_count": 7,
   "metadata": {},
   "outputs": [
    {
     "data": {
      "text/html": [
       "<div>\n",
       "<style scoped>\n",
       "    .dataframe tbody tr th:only-of-type {\n",
       "        vertical-align: middle;\n",
       "    }\n",
       "\n",
       "    .dataframe tbody tr th {\n",
       "        vertical-align: top;\n",
       "    }\n",
       "\n",
       "    .dataframe thead th {\n",
       "        text-align: right;\n",
       "    }\n",
       "</style>\n",
       "<table border=\"1\" class=\"dataframe\">\n",
       "  <thead>\n",
       "    <tr style=\"text-align: right;\">\n",
       "      <th></th>\n",
       "      <th>IDF</th>\n",
       "    </tr>\n",
       "  </thead>\n",
       "  <tbody>\n",
       "    <tr>\n",
       "      <th>과일이</th>\n",
       "      <td>0.693147</td>\n",
       "    </tr>\n",
       "    <tr>\n",
       "      <th>먹고</th>\n",
       "      <td>0.287682</td>\n",
       "    </tr>\n",
       "    <tr>\n",
       "      <th>빨갛고</th>\n",
       "      <td>0.693147</td>\n",
       "    </tr>\n",
       "    <tr>\n",
       "      <th>사과</th>\n",
       "      <td>0.693147</td>\n",
       "    </tr>\n",
       "    <tr>\n",
       "      <th>싶은</th>\n",
       "      <td>0.287682</td>\n",
       "    </tr>\n",
       "    <tr>\n",
       "      <th>저는</th>\n",
       "      <td>0.693147</td>\n",
       "    </tr>\n",
       "    <tr>\n",
       "      <th>좋아요</th>\n",
       "      <td>0.693147</td>\n",
       "    </tr>\n",
       "    <tr>\n",
       "      <th>큼지막한</th>\n",
       "      <td>0.693147</td>\n",
       "    </tr>\n",
       "    <tr>\n",
       "      <th>토마토</th>\n",
       "      <td>0.287682</td>\n",
       "    </tr>\n",
       "  </tbody>\n",
       "</table>\n",
       "</div>"
      ],
      "text/plain": [
       "           IDF\n",
       "과일이   0.693147\n",
       "먹고    0.287682\n",
       "빨갛고   0.693147\n",
       "사과    0.693147\n",
       "싶은    0.287682\n",
       "저는    0.693147\n",
       "좋아요   0.693147\n",
       "큼지막한  0.693147\n",
       "토마토   0.287682"
      ]
     },
     "execution_count": 7,
     "metadata": {},
     "output_type": "execute_result"
    }
   ],
   "source": [
    "# idf구하기\n",
    "result = []\n",
    "for j in range(len(vocab)):\n",
    "    t = vocab[j]\n",
    "    result.append(idf(t))\n",
    "\n",
    "idf_ = pd.DataFrame(result, index = vocab, columns = [\"IDF\"])\n",
    "idf_"
   ]
  },
  {
   "cell_type": "code",
   "execution_count": 8,
   "metadata": {},
   "outputs": [
    {
     "data": {
      "text/html": [
       "<div>\n",
       "<style scoped>\n",
       "    .dataframe tbody tr th:only-of-type {\n",
       "        vertical-align: middle;\n",
       "    }\n",
       "\n",
       "    .dataframe tbody tr th {\n",
       "        vertical-align: top;\n",
       "    }\n",
       "\n",
       "    .dataframe thead th {\n",
       "        text-align: right;\n",
       "    }\n",
       "</style>\n",
       "<table border=\"1\" class=\"dataframe\">\n",
       "  <thead>\n",
       "    <tr style=\"text-align: right;\">\n",
       "      <th></th>\n",
       "      <th>과일이</th>\n",
       "      <th>먹고</th>\n",
       "      <th>빨갛고</th>\n",
       "      <th>사과</th>\n",
       "      <th>싶은</th>\n",
       "      <th>저는</th>\n",
       "      <th>좋아요</th>\n",
       "      <th>큼지막한</th>\n",
       "      <th>토마토</th>\n",
       "    </tr>\n",
       "  </thead>\n",
       "  <tbody>\n",
       "    <tr>\n",
       "      <th>0</th>\n",
       "      <td>0.000000</td>\n",
       "      <td>0.287682</td>\n",
       "      <td>0.000000</td>\n",
       "      <td>0.693147</td>\n",
       "      <td>0.287682</td>\n",
       "      <td>0.000000</td>\n",
       "      <td>0.000000</td>\n",
       "      <td>0.000000</td>\n",
       "      <td>0.000000</td>\n",
       "    </tr>\n",
       "    <tr>\n",
       "      <th>1</th>\n",
       "      <td>0.000000</td>\n",
       "      <td>0.287682</td>\n",
       "      <td>0.000000</td>\n",
       "      <td>0.000000</td>\n",
       "      <td>0.287682</td>\n",
       "      <td>0.000000</td>\n",
       "      <td>0.000000</td>\n",
       "      <td>0.000000</td>\n",
       "      <td>0.287682</td>\n",
       "    </tr>\n",
       "    <tr>\n",
       "      <th>2</th>\n",
       "      <td>0.000000</td>\n",
       "      <td>0.000000</td>\n",
       "      <td>0.693147</td>\n",
       "      <td>0.000000</td>\n",
       "      <td>0.000000</td>\n",
       "      <td>0.000000</td>\n",
       "      <td>0.000000</td>\n",
       "      <td>0.693147</td>\n",
       "      <td>0.575364</td>\n",
       "    </tr>\n",
       "    <tr>\n",
       "      <th>3</th>\n",
       "      <td>0.693147</td>\n",
       "      <td>0.000000</td>\n",
       "      <td>0.000000</td>\n",
       "      <td>0.000000</td>\n",
       "      <td>0.000000</td>\n",
       "      <td>0.693147</td>\n",
       "      <td>0.693147</td>\n",
       "      <td>0.000000</td>\n",
       "      <td>0.000000</td>\n",
       "    </tr>\n",
       "  </tbody>\n",
       "</table>\n",
       "</div>"
      ],
      "text/plain": [
       "        과일이        먹고       빨갛고        사과        싶은        저는       좋아요  \\\n",
       "0  0.000000  0.287682  0.000000  0.693147  0.287682  0.000000  0.000000   \n",
       "1  0.000000  0.287682  0.000000  0.000000  0.287682  0.000000  0.000000   \n",
       "2  0.000000  0.000000  0.693147  0.000000  0.000000  0.000000  0.000000   \n",
       "3  0.693147  0.000000  0.000000  0.000000  0.000000  0.693147  0.693147   \n",
       "\n",
       "       큼지막한       토마토  \n",
       "0  0.000000  0.000000  \n",
       "1  0.000000  0.287682  \n",
       "2  0.693147  0.575364  \n",
       "3  0.000000  0.000000  "
      ]
     },
     "execution_count": 8,
     "metadata": {},
     "output_type": "execute_result"
    }
   ],
   "source": [
    "# tf-idf 행렬 \n",
    "result = []\n",
    "for i in range(N):\n",
    "    result.append([])\n",
    "    d = docs[i]\n",
    "    for j in range(len(vocab)):\n",
    "        t = vocab[j]\n",
    "\n",
    "        result[-1].append(tfidf(t,d))\n",
    "\n",
    "tfidf_ = pd.DataFrame(result, columns = vocab)\n",
    "tfidf_"
   ]
  },
  {
   "cell_type": "markdown",
   "metadata": {},
   "source": [
    "# LDA 잠재 디리클레 할당(Latent Dirichlet Allocaion)\n"
   ]
  },
  {
   "cell_type": "code",
   "execution_count": 16,
   "metadata": {},
   "outputs": [],
   "source": [
    "corpus2=[\n",
    "    '저는 토마토랑 바나나를 먹어요',\n",
    "    '우리는 귀여운 강아지가 좋아요',\n",
    "    '저의 깜찍하고 귀여운 강아지가 바나나를 먹어요',\n",
    "    '저는 토마토랑 바나나를 먹어요'\n",
    "]"
   ]
  },
  {
   "cell_type": "code",
   "execution_count": 17,
   "metadata": {},
   "outputs": [],
   "source": [
    "from nltk.tokenize import word_tokenize \n",
    "tokenized_doc=[]\n",
    "for i in corpus2:\n",
    "    tokenized_doc.append(word_tokenize(i))"
   ]
  },
  {
   "cell_type": "code",
   "execution_count": 18,
   "metadata": {},
   "outputs": [
    {
     "data": {
      "text/plain": [
       "[['저는', '토마토랑', '바나나를', '먹어요'],\n",
       " ['우리는', '귀여운', '강아지가', '좋아요'],\n",
       " ['저의', '깜찍하고', '귀여운', '강아지가', '바나나를', '먹어요'],\n",
       " ['저는', '토마토랑', '바나나를', '먹어요']]"
      ]
     },
     "execution_count": 18,
     "metadata": {},
     "output_type": "execute_result"
    }
   ],
   "source": [
    "tokenized_doc"
   ]
  },
  {
   "cell_type": "code",
   "execution_count": 20,
   "metadata": {},
   "outputs": [
    {
     "name": "stdout",
     "output_type": "stream",
     "text": [
      "[(4, 1), (5, 1), (6, 1), (7, 1)]\n"
     ]
    }
   ],
   "source": [
    "from gensim import corpora \n",
    "dictionary=corpora.Dictionary(tokenized_doc)\n",
    "corpus=[dictionary.doc2bow(text) for text in tokenized_doc]\n",
    "print(corpus[1]) #수행된 결과에서 두번째 뉴스 출력. 첫번째 문서의 인덱스는 0 "
   ]
  },
  {
   "cell_type": "code",
   "execution_count": 21,
   "metadata": {},
   "outputs": [
    {
     "name": "stdout",
     "output_type": "stream",
     "text": [
      "(0, '0.191*\"먹어요\" + 0.191*\"바나나를\" + 0.137*\"토마토랑\" + 0.137*\"저는\"')\n",
      "(1, '0.185*\"귀여운\" + 0.184*\"강아지가\" + 0.153*\"좋아요\" + 0.153*\"우리는\"')\n"
     ]
    }
   ],
   "source": [
    "import gensim \n",
    "NUM_TOPICS=2 #k=2\n",
    "ldamodel=gensim.models.ldamodel.LdaModel(corpus,num_topics=NUM_TOPICS,id2word=dictionary,passes=15)\n",
    "topics=ldamodel.print_topics(num_words=4)\n",
    "for topic in topics:\n",
    "    print(topic)"
   ]
  },
  {
   "cell_type": "code",
   "execution_count": 23,
   "metadata": {},
   "outputs": [
    {
     "data": {
      "text/html": [
       "\n",
       "<link rel=\"stylesheet\" type=\"text/css\" href=\"https://cdn.rawgit.com/bmabey/pyLDAvis/files/ldavis.v1.0.0.css\">\n",
       "\n",
       "\n",
       "<div id=\"ldavis_el1549619273678100646469586043\"></div>\n",
       "<script type=\"text/javascript\">\n",
       "\n",
       "var ldavis_el1549619273678100646469586043_data = {\"mdsDat\": {\"x\": [0.0694965273141861, -0.0694965273141861], \"y\": [0.0, 0.0], \"topics\": [1, 2], \"cluster\": [1, 1], \"Freq\": [68.32320404052734, 31.676795959472656]}, \"tinfo\": {\"Term\": [\"\\uc88b\\uc544\\uc694\", \"\\uc6b0\\ub9ac\\ub294\", \"\\uadc0\\uc5ec\\uc6b4\", \"\\uac15\\uc544\\uc9c0\\uac00\", \"\\uba39\\uc5b4\\uc694\", \"\\ubc14\\ub098\\ub098\\ub97c\", \"\\uc800\\uc758\", \"\\uae5c\\ucc0d\\ud558\\uace0\", \"\\ud1a0\\ub9c8\\ud1a0\\ub791\", \"\\uc800\\ub294\", \"\\uba39\\uc5b4\\uc694\", \"\\ubc14\\ub098\\ub098\\ub97c\", \"\\ud1a0\\ub9c8\\ud1a0\\ub791\", \"\\uc800\\ub294\", \"\\uae5c\\ucc0d\\ud558\\uace0\", \"\\uc800\\uc758\", \"\\uac15\\uc544\\uc9c0\\uac00\", \"\\uadc0\\uc5ec\\uc6b4\", \"\\uc6b0\\ub9ac\\ub294\", \"\\uc88b\\uc544\\uc694\", \"\\uc88b\\uc544\\uc694\", \"\\uc6b0\\ub9ac\\ub294\", \"\\uadc0\\uc5ec\\uc6b4\", \"\\uac15\\uc544\\uc9c0\\uac00\", \"\\uc800\\uc758\", \"\\uae5c\\ucc0d\\ud558\\uace0\", \"\\uc800\\ub294\", \"\\ud1a0\\ub9c8\\ud1a0\\ub791\", \"\\ubc14\\ub098\\ub098\\ub97c\", \"\\uba39\\uc5b4\\uc694\"], \"Freq\": [1.0, 1.0, 1.0, 1.0, 2.0, 2.0, 1.0, 1.0, 1.0, 1.0, 2.3451616764068604, 2.343914270401001, 1.6788958311080933, 1.6787775754928589, 0.9778357744216919, 0.9775250554084778, 0.809371292591095, 0.805618941783905, 0.3406687080860138, 0.34040626883506775, 0.8716922402381897, 0.8714656829833984, 1.0528924465179443, 1.04965341091156, 0.32174569368362427, 0.3214774429798126, 0.29920297861099243, 0.2991008758544922, 0.30783459544181824, 0.3067578673362732], \"Total\": [1.0, 1.0, 1.0, 1.0, 2.0, 2.0, 1.0, 1.0, 1.0, 1.0, 2.6519196033477783, 2.6517488956451416, 1.9779967069625854, 1.977980613708496, 1.2993131875991821, 1.299270749092102, 1.8590247631072998, 1.8585114479064941, 1.2121343612670898, 1.212098479270935, 1.212098479270935, 1.2121343612670898, 1.8585114479064941, 1.8590247631072998, 1.299270749092102, 1.2993131875991821, 1.977980613708496, 1.9779967069625854, 2.6517488956451416, 2.6519196033477783], \"Category\": [\"Default\", \"Default\", \"Default\", \"Default\", \"Default\", \"Default\", \"Default\", \"Default\", \"Default\", \"Default\", \"Topic1\", \"Topic1\", \"Topic1\", \"Topic1\", \"Topic1\", \"Topic1\", \"Topic1\", \"Topic1\", \"Topic1\", \"Topic1\", \"Topic2\", \"Topic2\", \"Topic2\", \"Topic2\", \"Topic2\", \"Topic2\", \"Topic2\", \"Topic2\", \"Topic2\", \"Topic2\"], \"logprob\": [10.0, 9.0, 8.0, 7.0, 6.0, 5.0, 4.0, 3.0, 2.0, 1.0, -1.657099962234497, -1.6576000452041626, -1.9912999868392944, -1.9914000034332275, -2.531899929046631, -2.5322000980377197, -2.720900058746338, -2.725600004196167, -3.5862998962402344, -3.587100028991699, -1.878100037574768, -1.8783999681472778, -1.6892000436782837, -1.6922999620437622, -2.874799966812134, -2.8756000995635986, -2.9474000930786133, -2.9477999210357666, -2.9189999103546143, -2.922499895095825], \"loglift\": [10.0, 9.0, 8.0, 7.0, 6.0, 5.0, 4.0, 3.0, 2.0, 1.0, 0.257999986410141, 0.2574999928474426, 0.21699999272823334, 0.21690000593662262, 0.09669999778270721, 0.09640000015497208, -0.4505999982357025, -0.45500001311302185, -0.8883000016212463, -0.8889999985694885, 0.8198999762535095, 0.819599986076355, 0.5813999772071838, 0.578000009059906, -0.24619999527931213, -0.24709999561309814, -0.7390999794006348, -0.7394999861717224, -1.0038000345230103, -1.0074000358581543]}, \"token.table\": {\"Topic\": [1, 2, 1, 2, 1, 1, 1, 2, 1, 1, 2, 1], \"Freq\": [0.5379164218902588, 0.5379164218902588, 0.5380650162696838, 0.5380650162696838, 0.769637405872345, 0.7541706562042236, 0.7542192339897156, 0.8249910473823547, 1.0111322402954102, 0.7696624994277954, 0.8250154852867126, 1.0111240148544312], \"Term\": [\"\\uac15\\uc544\\uc9c0\\uac00\", \"\\uac15\\uc544\\uc9c0\\uac00\", \"\\uadc0\\uc5ec\\uc6b4\", \"\\uadc0\\uc5ec\\uc6b4\", \"\\uae5c\\ucc0d\\ud558\\uace0\", \"\\uba39\\uc5b4\\uc694\", \"\\ubc14\\ub098\\ub098\\ub97c\", \"\\uc6b0\\ub9ac\\ub294\", \"\\uc800\\ub294\", \"\\uc800\\uc758\", \"\\uc88b\\uc544\\uc694\", \"\\ud1a0\\ub9c8\\ud1a0\\ub791\"]}, \"R\": 10, \"lambda.step\": 0.01, \"plot.opts\": {\"xlab\": \"PC1\", \"ylab\": \"PC2\"}, \"topic.order\": [1, 2]};\n",
       "\n",
       "function LDAvis_load_lib(url, callback){\n",
       "  var s = document.createElement('script');\n",
       "  s.src = url;\n",
       "  s.async = true;\n",
       "  s.onreadystatechange = s.onload = callback;\n",
       "  s.onerror = function(){console.warn(\"failed to load library \" + url);};\n",
       "  document.getElementsByTagName(\"head\")[0].appendChild(s);\n",
       "}\n",
       "\n",
       "if(typeof(LDAvis) !== \"undefined\"){\n",
       "   // already loaded: just create the visualization\n",
       "   !function(LDAvis){\n",
       "       new LDAvis(\"#\" + \"ldavis_el1549619273678100646469586043\", ldavis_el1549619273678100646469586043_data);\n",
       "   }(LDAvis);\n",
       "}else if(typeof define === \"function\" && define.amd){\n",
       "   // require.js is available: use it to load d3/LDAvis\n",
       "   require.config({paths: {d3: \"https://cdnjs.cloudflare.com/ajax/libs/d3/3.5.5/d3.min\"}});\n",
       "   require([\"d3\"], function(d3){\n",
       "      window.d3 = d3;\n",
       "      LDAvis_load_lib(\"https://cdn.rawgit.com/bmabey/pyLDAvis/files/ldavis.v1.0.0.js\", function(){\n",
       "        new LDAvis(\"#\" + \"ldavis_el1549619273678100646469586043\", ldavis_el1549619273678100646469586043_data);\n",
       "      });\n",
       "    });\n",
       "}else{\n",
       "    // require.js not available: dynamically load d3 & LDAvis\n",
       "    LDAvis_load_lib(\"https://cdnjs.cloudflare.com/ajax/libs/d3/3.5.5/d3.min.js\", function(){\n",
       "         LDAvis_load_lib(\"https://cdn.rawgit.com/bmabey/pyLDAvis/files/ldavis.v1.0.0.js\", function(){\n",
       "                 new LDAvis(\"#\" + \"ldavis_el1549619273678100646469586043\", ldavis_el1549619273678100646469586043_data);\n",
       "            })\n",
       "         });\n",
       "}\n",
       "</script>"
      ],
      "text/plain": [
       "<IPython.core.display.HTML object>"
      ]
     },
     "execution_count": 23,
     "metadata": {},
     "output_type": "execute_result"
    }
   ],
   "source": [
    "#시각화 & 토픽별 주제 \n",
    "import pyLDAvis.gensim\n",
    "pyLDAvis.enable_notebook()\n",
    "vis=pyLDAvis.gensim.prepare(ldamodel,corpus,dictionary)\n",
    "pyLDAvis.display(vis)"
   ]
  },
  {
   "cell_type": "code",
   "execution_count": 25,
   "metadata": {},
   "outputs": [
    {
     "name": "stdout",
     "output_type": "stream",
     "text": [
      "0 번째 문서의 topic 비율은 [(0, 0.89625454), (1, 0.103745446)]\n",
      "1 번째 문서의 topic 비율은 [(0, 0.10586712), (1, 0.8941329)]\n",
      "2 번째 문서의 topic 비율은 [(0, 0.78402144), (1, 0.21597856)]\n",
      "3 번째 문서의 topic 비율은 [(0, 0.8962571), (1, 0.10374283)]\n"
     ]
    }
   ],
   "source": [
    "# 문서별 토픽 분포 보기 \n",
    "for i,topic_list in enumerate(ldamodel[corpus]):\n",
    "    if i==5:\n",
    "        break\n",
    "    print(i, '번째 문서의 topic 비율은', topic_list)"
   ]
  },
  {
   "cell_type": "markdown",
   "metadata": {},
   "source": [
    "# doc2vec 을 이용하여 문서간 유사도 측정하기 \n",
    "## 1. 코사인 유사도 "
   ]
  },
  {
   "cell_type": "code",
   "execution_count": 39,
   "metadata": {},
   "outputs": [],
   "source": [
    "import pandas, nltk\n",
    "from gensim.models.doc2vec import Doc2Vec, TaggedDocument\n",
    "from nltk.tokenize import RegexpTokenizer"
   ]
  },
  {
   "cell_type": "code",
   "execution_count": 38,
   "metadata": {},
   "outputs": [
    {
     "data": {
      "text/plain": [
       "['저는 토마토랑 바나나를 먹어요',\n",
       " '우리는 귀여운 강아지가 좋아요',\n",
       " '저의 깜찍하고 귀여운 강아지가 바나나를 먹어요',\n",
       " '저는 토마토랑 바나나를 먹어요']"
      ]
     },
     "execution_count": 38,
     "metadata": {},
     "output_type": "execute_result"
    }
   ],
   "source": [
    "corpus2"
   ]
  },
  {
   "cell_type": "code",
   "execution_count": 37,
   "metadata": {},
   "outputs": [
    {
     "data": {
      "text/plain": [
       "[['저는', '토마토랑', '바나나를', '먹어요'],\n",
       " ['우리는', '귀여운', '강아지가', '좋아요'],\n",
       " ['저의', '깜찍하고', '귀여운', '강아지가', '바나나를', '먹어요'],\n",
       " ['저는', '토마토랑', '바나나를', '먹어요']]"
      ]
     },
     "execution_count": 37,
     "metadata": {},
     "output_type": "execute_result"
    }
   ],
   "source": [
    "tokenized_doc"
   ]
  },
  {
   "cell_type": "markdown",
   "metadata": {},
   "source": [
    "word2vec에서는 list의 list 형태로 데이터를 넣었다면, 여기에서는 words=['i', 'love', 'machine', 'learning', '.', 'its', 'awesome', '.'], tags=['0'] 이런 형태의 데이터의 list들을 만들어서 입력으로 사용합니다."
   ]
  },
  {
   "cell_type": "code",
   "execution_count": 42,
   "metadata": {},
   "outputs": [
    {
     "name": "stdout",
     "output_type": "stream",
     "text": [
      "[TaggedDocument(words=['저는', '토마토랑', '바나나를', '먹어요'], tags=['0']), TaggedDocument(words=['우리는', '귀여운', '강아지가', '좋아요'], tags=['1']), TaggedDocument(words=['저의', '깜찍하고', '귀여운', '강아지가', '바나나를', '먹어요'], tags=['2']), TaggedDocument(words=['저는', '토마토랑', '바나나를', '먹어요'], tags=['3'])]\n"
     ]
    }
   ],
   "source": [
    "tagged_data = [TaggedDocument(words=word_tokenize(_d.lower()), tags=[str(i)]) for i, _d in enumerate(corpus2)] #enumerate 인덱스 번호와 원소를 나타냄 \n",
    "\n",
    "print(tagged_data)"
   ]
  },
  {
   "cell_type": "code",
   "execution_count": 43,
   "metadata": {},
   "outputs": [
    {
     "name": "stdout",
     "output_type": "stream",
     "text": [
      "iteration 0\n",
      "iteration 1\n",
      "iteration 2\n",
      "iteration 3\n",
      "iteration 4\n",
      "iteration 5\n",
      "iteration 6\n",
      "iteration 7\n",
      "iteration 8\n",
      "iteration 9\n",
      "iteration 10\n",
      "iteration 11\n",
      "iteration 12\n",
      "iteration 13\n",
      "iteration 14\n",
      "iteration 15\n",
      "iteration 16\n",
      "iteration 17\n",
      "iteration 18\n",
      "iteration 19\n",
      "iteration 20\n",
      "iteration 21\n",
      "iteration 22\n",
      "iteration 23\n",
      "iteration 24"
     ]
    },
    {
     "name": "stderr",
     "output_type": "stream",
     "text": [
      "<ipython-input-43-7a0b3e0e536a>:19: DeprecationWarning: Call to deprecated `iter` (Attribute will be removed in 4.0.0, use self.epochs instead).\n",
      "  epochs=model.iter)\n",
      "<ipython-input-43-7a0b3e0e536a>:19: DeprecationWarning: Call to deprecated `iter` (Attribute will be removed in 4.0.0, use self.epochs instead).\n",
      "  epochs=model.iter)\n",
      "<ipython-input-43-7a0b3e0e536a>:19: DeprecationWarning: Call to deprecated `iter` (Attribute will be removed in 4.0.0, use self.epochs instead).\n",
      "  epochs=model.iter)\n",
      "<ipython-input-43-7a0b3e0e536a>:19: DeprecationWarning: Call to deprecated `iter` (Attribute will be removed in 4.0.0, use self.epochs instead).\n",
      "  epochs=model.iter)\n",
      "<ipython-input-43-7a0b3e0e536a>:19: DeprecationWarning: Call to deprecated `iter` (Attribute will be removed in 4.0.0, use self.epochs instead).\n",
      "  epochs=model.iter)\n",
      "<ipython-input-43-7a0b3e0e536a>:19: DeprecationWarning: Call to deprecated `iter` (Attribute will be removed in 4.0.0, use self.epochs instead).\n",
      "  epochs=model.iter)\n",
      "<ipython-input-43-7a0b3e0e536a>:19: DeprecationWarning: Call to deprecated `iter` (Attribute will be removed in 4.0.0, use self.epochs instead).\n",
      "  epochs=model.iter)\n",
      "<ipython-input-43-7a0b3e0e536a>:19: DeprecationWarning: Call to deprecated `iter` (Attribute will be removed in 4.0.0, use self.epochs instead).\n",
      "  epochs=model.iter)\n",
      "<ipython-input-43-7a0b3e0e536a>:19: DeprecationWarning: Call to deprecated `iter` (Attribute will be removed in 4.0.0, use self.epochs instead).\n",
      "  epochs=model.iter)\n",
      "<ipython-input-43-7a0b3e0e536a>:19: DeprecationWarning: Call to deprecated `iter` (Attribute will be removed in 4.0.0, use self.epochs instead).\n",
      "  epochs=model.iter)\n",
      "<ipython-input-43-7a0b3e0e536a>:19: DeprecationWarning: Call to deprecated `iter` (Attribute will be removed in 4.0.0, use self.epochs instead).\n",
      "  epochs=model.iter)\n",
      "<ipython-input-43-7a0b3e0e536a>:19: DeprecationWarning: Call to deprecated `iter` (Attribute will be removed in 4.0.0, use self.epochs instead).\n",
      "  epochs=model.iter)\n",
      "<ipython-input-43-7a0b3e0e536a>:19: DeprecationWarning: Call to deprecated `iter` (Attribute will be removed in 4.0.0, use self.epochs instead).\n",
      "  epochs=model.iter)\n",
      "<ipython-input-43-7a0b3e0e536a>:19: DeprecationWarning: Call to deprecated `iter` (Attribute will be removed in 4.0.0, use self.epochs instead).\n",
      "  epochs=model.iter)\n",
      "<ipython-input-43-7a0b3e0e536a>:19: DeprecationWarning: Call to deprecated `iter` (Attribute will be removed in 4.0.0, use self.epochs instead).\n",
      "  epochs=model.iter)\n",
      "<ipython-input-43-7a0b3e0e536a>:19: DeprecationWarning: Call to deprecated `iter` (Attribute will be removed in 4.0.0, use self.epochs instead).\n",
      "  epochs=model.iter)\n",
      "<ipython-input-43-7a0b3e0e536a>:19: DeprecationWarning: Call to deprecated `iter` (Attribute will be removed in 4.0.0, use self.epochs instead).\n",
      "  epochs=model.iter)\n",
      "<ipython-input-43-7a0b3e0e536a>:19: DeprecationWarning: Call to deprecated `iter` (Attribute will be removed in 4.0.0, use self.epochs instead).\n",
      "  epochs=model.iter)\n",
      "<ipython-input-43-7a0b3e0e536a>:19: DeprecationWarning: Call to deprecated `iter` (Attribute will be removed in 4.0.0, use self.epochs instead).\n",
      "  epochs=model.iter)\n",
      "<ipython-input-43-7a0b3e0e536a>:19: DeprecationWarning: Call to deprecated `iter` (Attribute will be removed in 4.0.0, use self.epochs instead).\n",
      "  epochs=model.iter)\n",
      "<ipython-input-43-7a0b3e0e536a>:19: DeprecationWarning: Call to deprecated `iter` (Attribute will be removed in 4.0.0, use self.epochs instead).\n",
      "  epochs=model.iter)\n",
      "<ipython-input-43-7a0b3e0e536a>:19: DeprecationWarning: Call to deprecated `iter` (Attribute will be removed in 4.0.0, use self.epochs instead).\n",
      "  epochs=model.iter)\n",
      "<ipython-input-43-7a0b3e0e536a>:19: DeprecationWarning: Call to deprecated `iter` (Attribute will be removed in 4.0.0, use self.epochs instead).\n",
      "  epochs=model.iter)\n",
      "<ipython-input-43-7a0b3e0e536a>:19: DeprecationWarning: Call to deprecated `iter` (Attribute will be removed in 4.0.0, use self.epochs instead).\n",
      "  epochs=model.iter)\n"
     ]
    },
    {
     "name": "stdout",
     "output_type": "stream",
     "text": [
      "\n",
      "iteration 25\n",
      "iteration 26\n",
      "iteration 27\n",
      "iteration 28\n",
      "iteration 29\n",
      "iteration 30\n",
      "iteration 31\n",
      "iteration 32\n",
      "iteration 33\n",
      "iteration 34\n",
      "iteration 35\n",
      "iteration 36\n",
      "iteration 37\n",
      "iteration 38\n",
      "iteration 39\n",
      "iteration 40\n",
      "iteration 41\n",
      "iteration 42\n",
      "iteration 43\n",
      "iteration 44\n",
      "iteration 45\n",
      "iteration 46\n",
      "iteration 47\n",
      "iteration 48\n",
      "iteration 49"
     ]
    },
    {
     "name": "stderr",
     "output_type": "stream",
     "text": [
      "<ipython-input-43-7a0b3e0e536a>:19: DeprecationWarning: Call to deprecated `iter` (Attribute will be removed in 4.0.0, use self.epochs instead).\n",
      "  epochs=model.iter)\n",
      "<ipython-input-43-7a0b3e0e536a>:19: DeprecationWarning: Call to deprecated `iter` (Attribute will be removed in 4.0.0, use self.epochs instead).\n",
      "  epochs=model.iter)\n",
      "<ipython-input-43-7a0b3e0e536a>:19: DeprecationWarning: Call to deprecated `iter` (Attribute will be removed in 4.0.0, use self.epochs instead).\n",
      "  epochs=model.iter)\n",
      "<ipython-input-43-7a0b3e0e536a>:19: DeprecationWarning: Call to deprecated `iter` (Attribute will be removed in 4.0.0, use self.epochs instead).\n",
      "  epochs=model.iter)\n",
      "<ipython-input-43-7a0b3e0e536a>:19: DeprecationWarning: Call to deprecated `iter` (Attribute will be removed in 4.0.0, use self.epochs instead).\n",
      "  epochs=model.iter)\n",
      "<ipython-input-43-7a0b3e0e536a>:19: DeprecationWarning: Call to deprecated `iter` (Attribute will be removed in 4.0.0, use self.epochs instead).\n",
      "  epochs=model.iter)\n",
      "<ipython-input-43-7a0b3e0e536a>:19: DeprecationWarning: Call to deprecated `iter` (Attribute will be removed in 4.0.0, use self.epochs instead).\n",
      "  epochs=model.iter)\n",
      "<ipython-input-43-7a0b3e0e536a>:19: DeprecationWarning: Call to deprecated `iter` (Attribute will be removed in 4.0.0, use self.epochs instead).\n",
      "  epochs=model.iter)\n",
      "<ipython-input-43-7a0b3e0e536a>:19: DeprecationWarning: Call to deprecated `iter` (Attribute will be removed in 4.0.0, use self.epochs instead).\n",
      "  epochs=model.iter)\n",
      "<ipython-input-43-7a0b3e0e536a>:19: DeprecationWarning: Call to deprecated `iter` (Attribute will be removed in 4.0.0, use self.epochs instead).\n",
      "  epochs=model.iter)\n",
      "<ipython-input-43-7a0b3e0e536a>:19: DeprecationWarning: Call to deprecated `iter` (Attribute will be removed in 4.0.0, use self.epochs instead).\n",
      "  epochs=model.iter)\n",
      "<ipython-input-43-7a0b3e0e536a>:19: DeprecationWarning: Call to deprecated `iter` (Attribute will be removed in 4.0.0, use self.epochs instead).\n",
      "  epochs=model.iter)\n",
      "<ipython-input-43-7a0b3e0e536a>:19: DeprecationWarning: Call to deprecated `iter` (Attribute will be removed in 4.0.0, use self.epochs instead).\n",
      "  epochs=model.iter)\n",
      "<ipython-input-43-7a0b3e0e536a>:19: DeprecationWarning: Call to deprecated `iter` (Attribute will be removed in 4.0.0, use self.epochs instead).\n",
      "  epochs=model.iter)\n",
      "<ipython-input-43-7a0b3e0e536a>:19: DeprecationWarning: Call to deprecated `iter` (Attribute will be removed in 4.0.0, use self.epochs instead).\n",
      "  epochs=model.iter)\n",
      "<ipython-input-43-7a0b3e0e536a>:19: DeprecationWarning: Call to deprecated `iter` (Attribute will be removed in 4.0.0, use self.epochs instead).\n",
      "  epochs=model.iter)\n",
      "<ipython-input-43-7a0b3e0e536a>:19: DeprecationWarning: Call to deprecated `iter` (Attribute will be removed in 4.0.0, use self.epochs instead).\n",
      "  epochs=model.iter)\n",
      "<ipython-input-43-7a0b3e0e536a>:19: DeprecationWarning: Call to deprecated `iter` (Attribute will be removed in 4.0.0, use self.epochs instead).\n",
      "  epochs=model.iter)\n",
      "<ipython-input-43-7a0b3e0e536a>:19: DeprecationWarning: Call to deprecated `iter` (Attribute will be removed in 4.0.0, use self.epochs instead).\n",
      "  epochs=model.iter)\n",
      "<ipython-input-43-7a0b3e0e536a>:19: DeprecationWarning: Call to deprecated `iter` (Attribute will be removed in 4.0.0, use self.epochs instead).\n",
      "  epochs=model.iter)\n",
      "<ipython-input-43-7a0b3e0e536a>:19: DeprecationWarning: Call to deprecated `iter` (Attribute will be removed in 4.0.0, use self.epochs instead).\n",
      "  epochs=model.iter)\n",
      "<ipython-input-43-7a0b3e0e536a>:19: DeprecationWarning: Call to deprecated `iter` (Attribute will be removed in 4.0.0, use self.epochs instead).\n",
      "  epochs=model.iter)\n",
      "<ipython-input-43-7a0b3e0e536a>:19: DeprecationWarning: Call to deprecated `iter` (Attribute will be removed in 4.0.0, use self.epochs instead).\n",
      "  epochs=model.iter)\n",
      "<ipython-input-43-7a0b3e0e536a>:19: DeprecationWarning: Call to deprecated `iter` (Attribute will be removed in 4.0.0, use self.epochs instead).\n",
      "  epochs=model.iter)\n",
      "<ipython-input-43-7a0b3e0e536a>:19: DeprecationWarning: Call to deprecated `iter` (Attribute will be removed in 4.0.0, use self.epochs instead).\n",
      "  epochs=model.iter)\n"
     ]
    },
    {
     "name": "stdout",
     "output_type": "stream",
     "text": [
      "\n",
      "iteration 50\n",
      "iteration 51\n",
      "iteration 52\n",
      "iteration 53\n",
      "iteration 54\n",
      "iteration 55\n",
      "iteration 56\n",
      "iteration 57\n",
      "iteration 58\n",
      "iteration 59\n",
      "iteration 60\n",
      "iteration 61\n",
      "iteration 62\n",
      "iteration 63\n",
      "iteration 64\n",
      "iteration 65\n",
      "iteration 66\n",
      "iteration 67\n",
      "iteration 68\n",
      "iteration 69\n",
      "iteration 70\n",
      "iteration 71\n",
      "iteration 72\n",
      "iteration 73\n",
      "iteration 74"
     ]
    },
    {
     "name": "stderr",
     "output_type": "stream",
     "text": [
      "<ipython-input-43-7a0b3e0e536a>:19: DeprecationWarning: Call to deprecated `iter` (Attribute will be removed in 4.0.0, use self.epochs instead).\n",
      "  epochs=model.iter)\n",
      "<ipython-input-43-7a0b3e0e536a>:19: DeprecationWarning: Call to deprecated `iter` (Attribute will be removed in 4.0.0, use self.epochs instead).\n",
      "  epochs=model.iter)\n",
      "<ipython-input-43-7a0b3e0e536a>:19: DeprecationWarning: Call to deprecated `iter` (Attribute will be removed in 4.0.0, use self.epochs instead).\n",
      "  epochs=model.iter)\n",
      "<ipython-input-43-7a0b3e0e536a>:19: DeprecationWarning: Call to deprecated `iter` (Attribute will be removed in 4.0.0, use self.epochs instead).\n",
      "  epochs=model.iter)\n",
      "<ipython-input-43-7a0b3e0e536a>:19: DeprecationWarning: Call to deprecated `iter` (Attribute will be removed in 4.0.0, use self.epochs instead).\n",
      "  epochs=model.iter)\n",
      "<ipython-input-43-7a0b3e0e536a>:19: DeprecationWarning: Call to deprecated `iter` (Attribute will be removed in 4.0.0, use self.epochs instead).\n",
      "  epochs=model.iter)\n",
      "<ipython-input-43-7a0b3e0e536a>:19: DeprecationWarning: Call to deprecated `iter` (Attribute will be removed in 4.0.0, use self.epochs instead).\n",
      "  epochs=model.iter)\n",
      "<ipython-input-43-7a0b3e0e536a>:19: DeprecationWarning: Call to deprecated `iter` (Attribute will be removed in 4.0.0, use self.epochs instead).\n",
      "  epochs=model.iter)\n",
      "<ipython-input-43-7a0b3e0e536a>:19: DeprecationWarning: Call to deprecated `iter` (Attribute will be removed in 4.0.0, use self.epochs instead).\n",
      "  epochs=model.iter)\n",
      "<ipython-input-43-7a0b3e0e536a>:19: DeprecationWarning: Call to deprecated `iter` (Attribute will be removed in 4.0.0, use self.epochs instead).\n",
      "  epochs=model.iter)\n",
      "<ipython-input-43-7a0b3e0e536a>:19: DeprecationWarning: Call to deprecated `iter` (Attribute will be removed in 4.0.0, use self.epochs instead).\n",
      "  epochs=model.iter)\n",
      "<ipython-input-43-7a0b3e0e536a>:19: DeprecationWarning: Call to deprecated `iter` (Attribute will be removed in 4.0.0, use self.epochs instead).\n",
      "  epochs=model.iter)\n",
      "<ipython-input-43-7a0b3e0e536a>:19: DeprecationWarning: Call to deprecated `iter` (Attribute will be removed in 4.0.0, use self.epochs instead).\n",
      "  epochs=model.iter)\n",
      "<ipython-input-43-7a0b3e0e536a>:19: DeprecationWarning: Call to deprecated `iter` (Attribute will be removed in 4.0.0, use self.epochs instead).\n",
      "  epochs=model.iter)\n",
      "<ipython-input-43-7a0b3e0e536a>:19: DeprecationWarning: Call to deprecated `iter` (Attribute will be removed in 4.0.0, use self.epochs instead).\n",
      "  epochs=model.iter)\n",
      "<ipython-input-43-7a0b3e0e536a>:19: DeprecationWarning: Call to deprecated `iter` (Attribute will be removed in 4.0.0, use self.epochs instead).\n",
      "  epochs=model.iter)\n",
      "<ipython-input-43-7a0b3e0e536a>:19: DeprecationWarning: Call to deprecated `iter` (Attribute will be removed in 4.0.0, use self.epochs instead).\n",
      "  epochs=model.iter)\n",
      "<ipython-input-43-7a0b3e0e536a>:19: DeprecationWarning: Call to deprecated `iter` (Attribute will be removed in 4.0.0, use self.epochs instead).\n",
      "  epochs=model.iter)\n",
      "<ipython-input-43-7a0b3e0e536a>:19: DeprecationWarning: Call to deprecated `iter` (Attribute will be removed in 4.0.0, use self.epochs instead).\n",
      "  epochs=model.iter)\n",
      "<ipython-input-43-7a0b3e0e536a>:19: DeprecationWarning: Call to deprecated `iter` (Attribute will be removed in 4.0.0, use self.epochs instead).\n",
      "  epochs=model.iter)\n",
      "<ipython-input-43-7a0b3e0e536a>:19: DeprecationWarning: Call to deprecated `iter` (Attribute will be removed in 4.0.0, use self.epochs instead).\n",
      "  epochs=model.iter)\n",
      "<ipython-input-43-7a0b3e0e536a>:19: DeprecationWarning: Call to deprecated `iter` (Attribute will be removed in 4.0.0, use self.epochs instead).\n",
      "  epochs=model.iter)\n",
      "<ipython-input-43-7a0b3e0e536a>:19: DeprecationWarning: Call to deprecated `iter` (Attribute will be removed in 4.0.0, use self.epochs instead).\n",
      "  epochs=model.iter)\n",
      "<ipython-input-43-7a0b3e0e536a>:19: DeprecationWarning: Call to deprecated `iter` (Attribute will be removed in 4.0.0, use self.epochs instead).\n",
      "  epochs=model.iter)\n",
      "<ipython-input-43-7a0b3e0e536a>:19: DeprecationWarning: Call to deprecated `iter` (Attribute will be removed in 4.0.0, use self.epochs instead).\n",
      "  epochs=model.iter)\n"
     ]
    },
    {
     "name": "stdout",
     "output_type": "stream",
     "text": [
      "\n",
      "iteration 75\n",
      "iteration 76\n",
      "iteration 77\n",
      "iteration 78\n",
      "iteration 79\n",
      "iteration 80\n",
      "iteration 81\n",
      "iteration 82\n",
      "iteration 83\n",
      "iteration 84\n",
      "iteration 85\n",
      "iteration 86\n",
      "iteration 87\n",
      "iteration 88\n",
      "iteration 89\n",
      "iteration 90\n",
      "iteration 91\n",
      "iteration 92\n",
      "iteration 93\n",
      "iteration 94\n",
      "iteration 95\n",
      "iteration 96\n",
      "iteration 97\n",
      "iteration 98\n",
      "iteration 99\n",
      "Model Saved"
     ]
    },
    {
     "name": "stderr",
     "output_type": "stream",
     "text": [
      "<ipython-input-43-7a0b3e0e536a>:19: DeprecationWarning: Call to deprecated `iter` (Attribute will be removed in 4.0.0, use self.epochs instead).\n",
      "  epochs=model.iter)\n",
      "<ipython-input-43-7a0b3e0e536a>:19: DeprecationWarning: Call to deprecated `iter` (Attribute will be removed in 4.0.0, use self.epochs instead).\n",
      "  epochs=model.iter)\n",
      "<ipython-input-43-7a0b3e0e536a>:19: DeprecationWarning: Call to deprecated `iter` (Attribute will be removed in 4.0.0, use self.epochs instead).\n",
      "  epochs=model.iter)\n",
      "<ipython-input-43-7a0b3e0e536a>:19: DeprecationWarning: Call to deprecated `iter` (Attribute will be removed in 4.0.0, use self.epochs instead).\n",
      "  epochs=model.iter)\n",
      "<ipython-input-43-7a0b3e0e536a>:19: DeprecationWarning: Call to deprecated `iter` (Attribute will be removed in 4.0.0, use self.epochs instead).\n",
      "  epochs=model.iter)\n",
      "<ipython-input-43-7a0b3e0e536a>:19: DeprecationWarning: Call to deprecated `iter` (Attribute will be removed in 4.0.0, use self.epochs instead).\n",
      "  epochs=model.iter)\n",
      "<ipython-input-43-7a0b3e0e536a>:19: DeprecationWarning: Call to deprecated `iter` (Attribute will be removed in 4.0.0, use self.epochs instead).\n",
      "  epochs=model.iter)\n",
      "<ipython-input-43-7a0b3e0e536a>:19: DeprecationWarning: Call to deprecated `iter` (Attribute will be removed in 4.0.0, use self.epochs instead).\n",
      "  epochs=model.iter)\n",
      "<ipython-input-43-7a0b3e0e536a>:19: DeprecationWarning: Call to deprecated `iter` (Attribute will be removed in 4.0.0, use self.epochs instead).\n",
      "  epochs=model.iter)\n",
      "<ipython-input-43-7a0b3e0e536a>:19: DeprecationWarning: Call to deprecated `iter` (Attribute will be removed in 4.0.0, use self.epochs instead).\n",
      "  epochs=model.iter)\n",
      "<ipython-input-43-7a0b3e0e536a>:19: DeprecationWarning: Call to deprecated `iter` (Attribute will be removed in 4.0.0, use self.epochs instead).\n",
      "  epochs=model.iter)\n",
      "<ipython-input-43-7a0b3e0e536a>:19: DeprecationWarning: Call to deprecated `iter` (Attribute will be removed in 4.0.0, use self.epochs instead).\n",
      "  epochs=model.iter)\n",
      "<ipython-input-43-7a0b3e0e536a>:19: DeprecationWarning: Call to deprecated `iter` (Attribute will be removed in 4.0.0, use self.epochs instead).\n",
      "  epochs=model.iter)\n",
      "<ipython-input-43-7a0b3e0e536a>:19: DeprecationWarning: Call to deprecated `iter` (Attribute will be removed in 4.0.0, use self.epochs instead).\n",
      "  epochs=model.iter)\n",
      "<ipython-input-43-7a0b3e0e536a>:19: DeprecationWarning: Call to deprecated `iter` (Attribute will be removed in 4.0.0, use self.epochs instead).\n",
      "  epochs=model.iter)\n",
      "<ipython-input-43-7a0b3e0e536a>:19: DeprecationWarning: Call to deprecated `iter` (Attribute will be removed in 4.0.0, use self.epochs instead).\n",
      "  epochs=model.iter)\n",
      "<ipython-input-43-7a0b3e0e536a>:19: DeprecationWarning: Call to deprecated `iter` (Attribute will be removed in 4.0.0, use self.epochs instead).\n",
      "  epochs=model.iter)\n",
      "<ipython-input-43-7a0b3e0e536a>:19: DeprecationWarning: Call to deprecated `iter` (Attribute will be removed in 4.0.0, use self.epochs instead).\n",
      "  epochs=model.iter)\n",
      "<ipython-input-43-7a0b3e0e536a>:19: DeprecationWarning: Call to deprecated `iter` (Attribute will be removed in 4.0.0, use self.epochs instead).\n",
      "  epochs=model.iter)\n",
      "<ipython-input-43-7a0b3e0e536a>:19: DeprecationWarning: Call to deprecated `iter` (Attribute will be removed in 4.0.0, use self.epochs instead).\n",
      "  epochs=model.iter)\n",
      "<ipython-input-43-7a0b3e0e536a>:19: DeprecationWarning: Call to deprecated `iter` (Attribute will be removed in 4.0.0, use self.epochs instead).\n",
      "  epochs=model.iter)\n",
      "<ipython-input-43-7a0b3e0e536a>:19: DeprecationWarning: Call to deprecated `iter` (Attribute will be removed in 4.0.0, use self.epochs instead).\n",
      "  epochs=model.iter)\n",
      "<ipython-input-43-7a0b3e0e536a>:19: DeprecationWarning: Call to deprecated `iter` (Attribute will be removed in 4.0.0, use self.epochs instead).\n",
      "  epochs=model.iter)\n",
      "<ipython-input-43-7a0b3e0e536a>:19: DeprecationWarning: Call to deprecated `iter` (Attribute will be removed in 4.0.0, use self.epochs instead).\n",
      "  epochs=model.iter)\n",
      "<ipython-input-43-7a0b3e0e536a>:19: DeprecationWarning: Call to deprecated `iter` (Attribute will be removed in 4.0.0, use self.epochs instead).\n",
      "  epochs=model.iter)\n",
      "<ipython-input-43-7a0b3e0e536a>:19: DeprecationWarning: Call to deprecated `iter` (Attribute will be removed in 4.0.0, use self.epochs instead).\n",
      "  epochs=model.iter)\n"
     ]
    },
    {
     "name": "stdout",
     "output_type": "stream",
     "text": [
      "\n"
     ]
    }
   ],
   "source": [
    "# 모델 설정 \n",
    "# 파라미터값 변경하며 확인하기 \n",
    "max_epochs = 100\n",
    "vec_size = 20\n",
    "alpha = 0.025\n",
    "\n",
    "model = Doc2Vec(size=vec_size,\n",
    "                alpha=alpha, \n",
    "                min_alpha=0.00025,\n",
    "                min_count=1,\n",
    "                dm =1)\n",
    "  \n",
    "model.build_vocab(tagged_data)\n",
    "\n",
    "for epoch in range(max_epochs):\n",
    "    print('iteration {0}'.format(epoch))\n",
    "    model.train(tagged_data,\n",
    "                total_examples=model.corpus_count,\n",
    "                epochs=model.iter)\n",
    "    # decrease the learning rate\n",
    "    model.alpha -= 0.0002\n",
    "    # fix the learning rate, no decay\n",
    "    model.min_alpha = model.alpha\n",
    "\n",
    "model.save(\"d2v.model\")\n",
    "print(\"Model Saved\")"
   ]
  },
  {
   "cell_type": "code",
   "execution_count": 44,
   "metadata": {},
   "outputs": [
    {
     "name": "stdout",
     "output_type": "stream",
     "text": [
      "V1_infer [-0.00897267 -0.0231356  -0.00998604 -0.02220161 -0.02150639 -0.0091275\n",
      " -0.006314    0.01688878  0.02315597  0.00636885  0.01561861  0.0027152\n",
      "  0.01525442  0.01548706  0.01586853  0.00256532  0.02016707 -0.01839732\n",
      " -0.00283964 -0.01906318]\n"
     ]
    }
   ],
   "source": [
    "from gensim.models.doc2vec import Doc2Vec\n",
    "\n",
    "model= Doc2Vec.load(\"d2v.model\")\n",
    "#test 해보기  - train 데이터에 없는 데이터를 사용해야하지만 일단 4번째 문장을 사용해본다. \n",
    "test_data = word_tokenize(\"저는 토마토랑 바나나를 먹어요\".lower())\n",
    "v1 = model.infer_vector(test_data)\n",
    "print(\"V1_infer\", v1)\n"
   ]
  },
  {
   "cell_type": "code",
   "execution_count": 45,
   "metadata": {},
   "outputs": [
    {
     "name": "stdout",
     "output_type": "stream",
     "text": [
      "[('2', 0.9801236987113953), ('3', 0.9535617828369141), ('0', 0.9390742778778076)]\n"
     ]
    }
   ],
   "source": [
    "# to find most similar doc using tags\n",
    "similar_doc = model.docvecs.most_similar('1') \n",
    "print(similar_doc)"
   ]
  },
  {
   "cell_type": "markdown",
   "metadata": {},
   "source": [
    " 위의 결과를 해석해보면 \n",
    " 1번문장 ('우리는 귀여운 강아지가 좋아요')과 가장 유사한 문장은 98퍼 유사한 2번 문장(저의 깜찍하고 귀여운 강아지가 바나나를 먹어요)이다.  \n",
    " 데이터 수가 적기 때문에 유사도가 높게 나온거로 보인다. "
   ]
  }
 ],
 "metadata": {
  "kernelspec": {
   "display_name": "Python 3",
   "language": "python",
   "name": "python3"
  },
  "language_info": {
   "codemirror_mode": {
    "name": "ipython",
    "version": 3
   },
   "file_extension": ".py",
   "mimetype": "text/x-python",
   "name": "python",
   "nbconvert_exporter": "python",
   "pygments_lexer": "ipython3",
   "version": "3.8.3"
  }
 },
 "nbformat": 4,
 "nbformat_minor": 4
}
